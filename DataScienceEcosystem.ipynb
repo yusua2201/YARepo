{
 "cells": [
  {
   "cell_type": "markdown",
   "id": "d4f67fab-9ccc-48e4-92d6-8536719a64c2",
   "metadata": {},
   "source": [
    "# Data Science Tools and Ecosystem"
   ]
  },
  {
   "cell_type": "markdown",
   "id": "61a24600-b5dd-46bf-b2d4-e36d0e232a77",
   "metadata": {},
   "source": [
    "In this notebook, Data Science Tools and Ecosystem are summarized."
   ]
  },
  {
   "cell_type": "markdown",
   "id": "7c26aae7-9f85-48e5-af1b-5d2108dd8a46",
   "metadata": {},
   "source": [
    "Some of the popular languages that Data Scientists use are:\n",
    "1. Python\n",
    "2. R\n",
    "3. SQL"
   ]
  },
  {
   "cell_type": "markdown",
   "id": "7a07ee7b-e37a-4b10-a48d-4662442ae518",
   "metadata": {},
   "source": [
    "Some of the commonly used libraries used by Data Scientists include:\n",
    "1. NumPy\n",
    "2. pandas\n",
    "3. Matplotlib\n",
    "4. ggplot2"
   ]
  },
  {
   "cell_type": "markdown",
   "id": "a76e71d7-e5eb-4696-a476-1bf0661aa34f",
   "metadata": {},
   "source": [
    "| Data Science Tools |\n",
    "|--------------------|\n",
    "| Jupyter Notebook |\n",
    "| RStudio |\n",
    "| Visual Studio Code |"
   ]
  },
  {
   "cell_type": "markdown",
   "id": "38684415-c9c0-4236-ac39-ed6de651c994",
   "metadata": {},
   "source": [
    "### Below are a few examples of evaluating arithmetic expressions in Python"
   ]
  },
  {
   "cell_type": "code",
   "execution_count": 3,
   "id": "50b5459a-f4d0-408a-ad26-33ac88f6b69b",
   "metadata": {},
   "outputs": [
    {
     "name": "stdout",
     "output_type": "stream",
     "text": [
      "x = 17\n"
     ]
    }
   ],
   "source": [
    "# This is a simple arithmetic expression to multiply and then add integers\n",
    "x = (3*4)+5\n",
    "print(\"x =\", x)"
   ]
  },
  {
   "cell_type": "code",
   "execution_count": 5,
   "id": "eebb66fc-b4d3-46dc-a765-b4149a712766",
   "metadata": {},
   "outputs": [
    {
     "name": "stdout",
     "output_type": "stream",
     "text": [
      "200 minutes are equal to 3.3333333333333335 hours\n"
     ]
    }
   ],
   "source": [
    "# This will convert 200 minutes to hours by dividing by 60\n",
    "x_in_minutes=200\n",
    "x_in_hours=x_in_minutes/60\n",
    "print(\"200 minutes are equal to\", x_in_hours, \"hours\")"
   ]
  },
  {
   "cell_type": "markdown",
   "id": "bf8194b9-55b0-481a-ad44-889f03be5183",
   "metadata": {},
   "source": [
    "**Objectives:**\n",
    "- List popular languages for Data Science\n",
    "- List popular libraries for Data Science\n",
    "- Introduce simple arithmetic expressions"
   ]
  },
  {
   "cell_type": "markdown",
   "id": "cb3342ce-f388-41c9-9549-80101402476e",
   "metadata": {},
   "source": [
    "## Author\n",
    "Yusua Agabus"
   ]
  },
  {
   "cell_type": "code",
   "execution_count": null,
   "id": "d9141fa7-919b-4c08-bf03-f694c7dfb9b0",
   "metadata": {},
   "outputs": [],
   "source": []
  }
 ],
 "metadata": {
  "kernelspec": {
   "display_name": "Python 3 (ipykernel)",
   "language": "python",
   "name": "python3"
  },
  "language_info": {
   "codemirror_mode": {
    "name": "ipython",
    "version": 3
   },
   "file_extension": ".py",
   "mimetype": "text/x-python",
   "name": "python",
   "nbconvert_exporter": "python",
   "pygments_lexer": "ipython3",
   "version": "3.12.8"
  }
 },
 "nbformat": 4,
 "nbformat_minor": 5
}
