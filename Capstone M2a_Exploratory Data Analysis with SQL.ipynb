{
 "cells": [
  {
   "cell_type": "markdown",
   "id": "b6d4461c-f972-4f17-bf2a-2bcf34bbe81a",
   "metadata": {},
   "source": [
    "### Exploratory Data Analysis with SQL ###"
   ]
  },
  {
   "cell_type": "code",
   "execution_count": 5,
   "id": "332ace95-7c9e-4c7d-9993-de54841a6dc8",
   "metadata": {
    "scrolled": true
   },
   "outputs": [
    {
     "name": "stdout",
     "output_type": "stream",
     "text": [
      "Requirement already satisfied: pandas in c:\\users\\65978\\anaconda3\\lib\\site-packages (2.2.2)\n",
      "Requirement already satisfied: numpy>=1.26.0 in c:\\users\\65978\\anaconda3\\lib\\site-packages (from pandas) (1.26.4)\n",
      "Requirement already satisfied: python-dateutil>=2.8.2 in c:\\users\\65978\\anaconda3\\lib\\site-packages (from pandas) (2.9.0.post0)\n",
      "Requirement already satisfied: pytz>=2020.1 in c:\\users\\65978\\anaconda3\\lib\\site-packages (from pandas) (2024.1)\n",
      "Requirement already satisfied: tzdata>=2022.7 in c:\\users\\65978\\anaconda3\\lib\\site-packages (from pandas) (2023.3)\n",
      "Requirement already satisfied: six>=1.5 in c:\\users\\65978\\anaconda3\\lib\\site-packages (from python-dateutil>=2.8.2->pandas) (1.16.0)\n",
      "Requirement already satisfied: scikit-learn in c:\\users\\65978\\anaconda3\\lib\\site-packages (1.6.1)\n",
      "Requirement already satisfied: numpy>=1.19.5 in c:\\users\\65978\\anaconda3\\lib\\site-packages (from scikit-learn) (1.26.4)\n",
      "Requirement already satisfied: scipy>=1.6.0 in c:\\users\\65978\\anaconda3\\lib\\site-packages (from scikit-learn) (1.13.1)\n",
      "Requirement already satisfied: joblib>=1.2.0 in c:\\users\\65978\\anaconda3\\lib\\site-packages (from scikit-learn) (1.4.2)\n",
      "Requirement already satisfied: threadpoolctl>=3.1.0 in c:\\users\\65978\\anaconda3\\lib\\site-packages (from scikit-learn) (3.5.0)\n",
      "Requirement already satisfied: matplotlib in c:\\users\\65978\\anaconda3\\lib\\site-packages (3.9.2)\n",
      "Requirement already satisfied: contourpy>=1.0.1 in c:\\users\\65978\\anaconda3\\lib\\site-packages (from matplotlib) (1.2.0)\n",
      "Requirement already satisfied: cycler>=0.10 in c:\\users\\65978\\anaconda3\\lib\\site-packages (from matplotlib) (0.11.0)\n",
      "Requirement already satisfied: fonttools>=4.22.0 in c:\\users\\65978\\anaconda3\\lib\\site-packages (from matplotlib) (4.51.0)\n",
      "Requirement already satisfied: kiwisolver>=1.3.1 in c:\\users\\65978\\anaconda3\\lib\\site-packages (from matplotlib) (1.4.4)\n",
      "Requirement already satisfied: numpy>=1.23 in c:\\users\\65978\\anaconda3\\lib\\site-packages (from matplotlib) (1.26.4)\n",
      "Requirement already satisfied: packaging>=20.0 in c:\\users\\65978\\anaconda3\\lib\\site-packages (from matplotlib) (24.1)\n",
      "Requirement already satisfied: pillow>=8 in c:\\users\\65978\\anaconda3\\lib\\site-packages (from matplotlib) (10.4.0)\n",
      "Requirement already satisfied: pyparsing>=2.3.1 in c:\\users\\65978\\anaconda3\\lib\\site-packages (from matplotlib) (3.1.2)\n",
      "Requirement already satisfied: python-dateutil>=2.7 in c:\\users\\65978\\anaconda3\\lib\\site-packages (from matplotlib) (2.9.0.post0)\n",
      "Requirement already satisfied: six>=1.5 in c:\\users\\65978\\anaconda3\\lib\\site-packages (from python-dateutil>=2.7->matplotlib) (1.16.0)\n",
      "Requirement already satisfied: numpy in c:\\users\\65978\\anaconda3\\lib\\site-packages (1.26.4)\n",
      "Requirement already satisfied: seaborn in c:\\users\\65978\\anaconda3\\lib\\site-packages (0.13.2)\n",
      "Requirement already satisfied: numpy!=1.24.0,>=1.20 in c:\\users\\65978\\anaconda3\\lib\\site-packages (from seaborn) (1.26.4)\n",
      "Requirement already satisfied: pandas>=1.2 in c:\\users\\65978\\anaconda3\\lib\\site-packages (from seaborn) (2.2.2)\n",
      "Requirement already satisfied: matplotlib!=3.6.1,>=3.4 in c:\\users\\65978\\anaconda3\\lib\\site-packages (from seaborn) (3.9.2)\n",
      "Requirement already satisfied: contourpy>=1.0.1 in c:\\users\\65978\\anaconda3\\lib\\site-packages (from matplotlib!=3.6.1,>=3.4->seaborn) (1.2.0)\n",
      "Requirement already satisfied: cycler>=0.10 in c:\\users\\65978\\anaconda3\\lib\\site-packages (from matplotlib!=3.6.1,>=3.4->seaborn) (0.11.0)\n",
      "Requirement already satisfied: fonttools>=4.22.0 in c:\\users\\65978\\anaconda3\\lib\\site-packages (from matplotlib!=3.6.1,>=3.4->seaborn) (4.51.0)\n",
      "Requirement already satisfied: kiwisolver>=1.3.1 in c:\\users\\65978\\anaconda3\\lib\\site-packages (from matplotlib!=3.6.1,>=3.4->seaborn) (1.4.4)\n",
      "Requirement already satisfied: packaging>=20.0 in c:\\users\\65978\\anaconda3\\lib\\site-packages (from matplotlib!=3.6.1,>=3.4->seaborn) (24.1)\n",
      "Requirement already satisfied: pillow>=8 in c:\\users\\65978\\anaconda3\\lib\\site-packages (from matplotlib!=3.6.1,>=3.4->seaborn) (10.4.0)\n",
      "Requirement already satisfied: pyparsing>=2.3.1 in c:\\users\\65978\\anaconda3\\lib\\site-packages (from matplotlib!=3.6.1,>=3.4->seaborn) (3.1.2)\n",
      "Requirement already satisfied: python-dateutil>=2.7 in c:\\users\\65978\\anaconda3\\lib\\site-packages (from matplotlib!=3.6.1,>=3.4->seaborn) (2.9.0.post0)\n",
      "Requirement already satisfied: pytz>=2020.1 in c:\\users\\65978\\anaconda3\\lib\\site-packages (from pandas>=1.2->seaborn) (2024.1)\n",
      "Requirement already satisfied: tzdata>=2022.7 in c:\\users\\65978\\anaconda3\\lib\\site-packages (from pandas>=1.2->seaborn) (2023.3)\n",
      "Requirement already satisfied: six>=1.5 in c:\\users\\65978\\anaconda3\\lib\\site-packages (from python-dateutil>=2.7->matplotlib!=3.6.1,>=3.4->seaborn) (1.16.0)\n",
      "Requirement already satisfied: plotly in c:\\users\\65978\\anaconda3\\lib\\site-packages (6.0.0)\n",
      "Requirement already satisfied: narwhals>=1.15.1 in c:\\users\\65978\\anaconda3\\lib\\site-packages (from plotly) (1.30.0)\n",
      "Requirement already satisfied: packaging in c:\\users\\65978\\anaconda3\\lib\\site-packages (from plotly) (24.1)\n",
      "Requirement already satisfied: requests in c:\\users\\65978\\anaconda3\\lib\\site-packages (2.32.3)\n",
      "Requirement already satisfied: charset-normalizer<4,>=2 in c:\\users\\65978\\anaconda3\\lib\\site-packages (from requests) (3.3.2)\n",
      "Requirement already satisfied: idna<4,>=2.5 in c:\\users\\65978\\anaconda3\\lib\\site-packages (from requests) (3.7)\n",
      "Requirement already satisfied: urllib3<3,>=1.21.1 in c:\\users\\65978\\anaconda3\\lib\\site-packages (from requests) (2.2.3)\n",
      "Requirement already satisfied: certifi>=2017.4.17 in c:\\users\\65978\\anaconda3\\lib\\site-packages (from requests) (2025.4.26)\n",
      "Collecting sqlalchemy==1.3.9\n",
      "  Using cached SQLAlchemy-1.3.9.tar.gz (6.0 MB)\n",
      "  Preparing metadata (setup.py): started\n",
      "  Preparing metadata (setup.py): finished with status 'error'\n"
     ]
    },
    {
     "name": "stderr",
     "output_type": "stream",
     "text": [
      "  ERROR: Error [WinError 225] Operation did not complete successfully because the file contains a virus or potentially unwanted software while executing command python setup.py egg_info\n",
      "ERROR: Could not install packages due to an OSError: [WinError 225] Operation did not complete successfully because the file contains a virus or potentially unwanted software\n",
      "\n"
     ]
    },
    {
     "name": "stdout",
     "output_type": "stream",
     "text": [
      "Requirement already satisfied: ipython-sql in c:\\users\\65978\\anaconda3\\lib\\site-packages (0.5.0)\n",
      "Requirement already satisfied: prettytable in c:\\users\\65978\\anaconda3\\lib\\site-packages (from ipython-sql) (3.16.0)\n",
      "Requirement already satisfied: ipython in c:\\users\\65978\\anaconda3\\lib\\site-packages (from ipython-sql) (8.27.0)\n",
      "Requirement already satisfied: sqlalchemy>=2.0 in c:\\users\\65978\\anaconda3\\lib\\site-packages (from ipython-sql) (2.0.34)\n",
      "Requirement already satisfied: sqlparse in c:\\users\\65978\\anaconda3\\lib\\site-packages (from ipython-sql) (0.5.3)\n",
      "Requirement already satisfied: six in c:\\users\\65978\\anaconda3\\lib\\site-packages (from ipython-sql) (1.16.0)\n",
      "Requirement already satisfied: ipython-genutils in c:\\users\\65978\\anaconda3\\lib\\site-packages (from ipython-sql) (0.2.0)\n",
      "Requirement already satisfied: typing-extensions>=4.6.0 in c:\\users\\65978\\anaconda3\\lib\\site-packages (from sqlalchemy>=2.0->ipython-sql) (4.11.0)\n",
      "Requirement already satisfied: greenlet!=0.4.17 in c:\\users\\65978\\anaconda3\\lib\\site-packages (from sqlalchemy>=2.0->ipython-sql) (3.0.1)\n",
      "Requirement already satisfied: decorator in c:\\users\\65978\\anaconda3\\lib\\site-packages (from ipython->ipython-sql) (5.1.1)\n",
      "Requirement already satisfied: jedi>=0.16 in c:\\users\\65978\\anaconda3\\lib\\site-packages (from ipython->ipython-sql) (0.19.1)\n",
      "Requirement already satisfied: matplotlib-inline in c:\\users\\65978\\anaconda3\\lib\\site-packages (from ipython->ipython-sql) (0.1.6)\n",
      "Requirement already satisfied: prompt-toolkit<3.1.0,>=3.0.41 in c:\\users\\65978\\anaconda3\\lib\\site-packages (from ipython->ipython-sql) (3.0.43)\n",
      "Requirement already satisfied: pygments>=2.4.0 in c:\\users\\65978\\anaconda3\\lib\\site-packages (from ipython->ipython-sql) (2.15.1)\n",
      "Requirement already satisfied: stack-data in c:\\users\\65978\\anaconda3\\lib\\site-packages (from ipython->ipython-sql) (0.2.0)\n",
      "Requirement already satisfied: traitlets>=5.13.0 in c:\\users\\65978\\anaconda3\\lib\\site-packages (from ipython->ipython-sql) (5.14.3)\n",
      "Requirement already satisfied: colorama in c:\\users\\65978\\anaconda3\\lib\\site-packages (from ipython->ipython-sql) (0.4.6)\n",
      "Requirement already satisfied: wcwidth in c:\\users\\65978\\anaconda3\\lib\\site-packages (from prettytable->ipython-sql) (0.2.5)\n",
      "Requirement already satisfied: parso<0.9.0,>=0.8.3 in c:\\users\\65978\\anaconda3\\lib\\site-packages (from jedi>=0.16->ipython->ipython-sql) (0.8.3)\n",
      "Requirement already satisfied: executing in c:\\users\\65978\\anaconda3\\lib\\site-packages (from stack-data->ipython->ipython-sql) (0.8.3)\n",
      "Requirement already satisfied: asttokens in c:\\users\\65978\\anaconda3\\lib\\site-packages (from stack-data->ipython->ipython-sql) (2.0.5)\n",
      "Requirement already satisfied: pure-eval in c:\\users\\65978\\anaconda3\\lib\\site-packages (from stack-data->ipython->ipython-sql) (0.2.2)\n",
      "Requirement already satisfied: ipython-sql in c:\\users\\65978\\anaconda3\\lib\\site-packages (0.5.0)\n",
      "Requirement already satisfied: prettytable in c:\\users\\65978\\anaconda3\\lib\\site-packages (3.16.0)\n",
      "Requirement already satisfied: ipython in c:\\users\\65978\\anaconda3\\lib\\site-packages (from ipython-sql) (8.27.0)\n",
      "Requirement already satisfied: sqlalchemy>=2.0 in c:\\users\\65978\\anaconda3\\lib\\site-packages (from ipython-sql) (2.0.34)\n",
      "Requirement already satisfied: sqlparse in c:\\users\\65978\\anaconda3\\lib\\site-packages (from ipython-sql) (0.5.3)\n",
      "Requirement already satisfied: six in c:\\users\\65978\\anaconda3\\lib\\site-packages (from ipython-sql) (1.16.0)\n",
      "Requirement already satisfied: ipython-genutils in c:\\users\\65978\\anaconda3\\lib\\site-packages (from ipython-sql) (0.2.0)\n",
      "Requirement already satisfied: wcwidth in c:\\users\\65978\\anaconda3\\lib\\site-packages (from prettytable) (0.2.5)\n",
      "Requirement already satisfied: typing-extensions>=4.6.0 in c:\\users\\65978\\anaconda3\\lib\\site-packages (from sqlalchemy>=2.0->ipython-sql) (4.11.0)\n",
      "Requirement already satisfied: greenlet!=0.4.17 in c:\\users\\65978\\anaconda3\\lib\\site-packages (from sqlalchemy>=2.0->ipython-sql) (3.0.1)\n",
      "Requirement already satisfied: decorator in c:\\users\\65978\\anaconda3\\lib\\site-packages (from ipython->ipython-sql) (5.1.1)\n",
      "Requirement already satisfied: jedi>=0.16 in c:\\users\\65978\\anaconda3\\lib\\site-packages (from ipython->ipython-sql) (0.19.1)\n",
      "Requirement already satisfied: matplotlib-inline in c:\\users\\65978\\anaconda3\\lib\\site-packages (from ipython->ipython-sql) (0.1.6)\n",
      "Requirement already satisfied: prompt-toolkit<3.1.0,>=3.0.41 in c:\\users\\65978\\anaconda3\\lib\\site-packages (from ipython->ipython-sql) (3.0.43)\n",
      "Requirement already satisfied: pygments>=2.4.0 in c:\\users\\65978\\anaconda3\\lib\\site-packages (from ipython->ipython-sql) (2.15.1)\n",
      "Requirement already satisfied: stack-data in c:\\users\\65978\\anaconda3\\lib\\site-packages (from ipython->ipython-sql) (0.2.0)\n",
      "Requirement already satisfied: traitlets>=5.13.0 in c:\\users\\65978\\anaconda3\\lib\\site-packages (from ipython->ipython-sql) (5.14.3)\n",
      "Requirement already satisfied: colorama in c:\\users\\65978\\anaconda3\\lib\\site-packages (from ipython->ipython-sql) (0.4.6)\n",
      "Requirement already satisfied: parso<0.9.0,>=0.8.3 in c:\\users\\65978\\anaconda3\\lib\\site-packages (from jedi>=0.16->ipython->ipython-sql) (0.8.3)\n",
      "Requirement already satisfied: executing in c:\\users\\65978\\anaconda3\\lib\\site-packages (from stack-data->ipython->ipython-sql) (0.8.3)\n",
      "Requirement already satisfied: asttokens in c:\\users\\65978\\anaconda3\\lib\\site-packages (from stack-data->ipython->ipython-sql) (2.0.5)\n",
      "Requirement already satisfied: pure-eval in c:\\users\\65978\\anaconda3\\lib\\site-packages (from stack-data->ipython->ipython-sql) (0.2.2)\n",
      "The sql extension is already loaded. To reload it, use:\n",
      "  %reload_ext sql\n"
     ]
    }
   ],
   "source": [
    "!pip install pandas\n",
    "!pip install -U scikit-learn\n",
    "!pip install matplotlib\n",
    "!pip install numpy\n",
    "!pip install seaborn\n",
    "!pip install plotly\n",
    "!pip install requests\n",
    "!pip install sqlalchemy==1.3.9\n",
    "!pip install ipython-sql\n",
    "!pip install ipython-sql prettytable\n",
    "!pip install -q pandas\n",
    "\n",
    "%load_ext sql\n",
    "%sql sqlite:///my_data1.db\n",
    "    \n",
    "import pandas as pd\n",
    "import requests\n",
    "import numpy as np\n",
    "import datetime\n",
    "import matplotlib.pyplot as plt\n",
    "import seaborn as sns\n",
    "\n",
    "import csv, sqlite3\n",
    "import prettytable\n",
    "prettytable.DEFAULT = 'DEFAULT'\n",
    "\n",
    "con = sqlite3.connect(\"my_data1.db\")\n",
    "cur = con.cursor()"
   ]
  },
  {
   "cell_type": "markdown",
   "id": "68cdcc4e-d261-4e86-88eb-7912ac938b9a",
   "metadata": {},
   "source": [
    "#### Read from Data Source and Write to SQL Tables ####"
   ]
  },
  {
   "cell_type": "code",
   "execution_count": 10,
   "id": "1eab1876-b2a6-4012-80c4-00a312212e1b",
   "metadata": {},
   "outputs": [
    {
     "name": "stdout",
     "output_type": "stream",
     "text": [
      " * sqlite:///my_data1.db\n",
      "Done.\n",
      " * sqlite:///my_data1.db\n",
      "Done.\n",
      "         Date Time (UTC) Booster_Version  Launch_Site  \\\n",
      "0  2010-06-04   18:45:00  F9 v1.0  B0003  CCAFS LC-40   \n",
      "1  2010-12-08   15:43:00  F9 v1.0  B0004  CCAFS LC-40   \n",
      "2  2012-05-22    7:44:00  F9 v1.0  B0005  CCAFS LC-40   \n",
      "3  2012-10-08    0:35:00  F9 v1.0  B0006  CCAFS LC-40   \n",
      "4  2013-03-01   15:10:00  F9 v1.0  B0007  CCAFS LC-40   \n",
      "\n",
      "                                             Payload  PAYLOAD_MASS__KG_  \\\n",
      "0               Dragon Spacecraft Qualification Unit                  0   \n",
      "1  Dragon demo flight C1, two CubeSats, barrel of...                  0   \n",
      "2                              Dragon demo flight C2                525   \n",
      "3                                       SpaceX CRS-1                500   \n",
      "4                                       SpaceX CRS-2                677   \n",
      "\n",
      "       Orbit         Customer Mission_Outcome      Landing_Outcome  \n",
      "0        LEO           SpaceX         Success  Failure (parachute)  \n",
      "1  LEO (ISS)  NASA (COTS) NRO         Success  Failure (parachute)  \n",
      "2  LEO (ISS)      NASA (COTS)         Success           No attempt  \n",
      "3  LEO (ISS)       NASA (CRS)         Success           No attempt  \n",
      "4  LEO (ISS)       NASA (CRS)         Success           No attempt  \n"
     ]
    }
   ],
   "source": [
    "import pandas as pd\n",
    "df = pd.read_csv(\"https://cf-courses-data.s3.us.cloud-object-storage.appdomain.cloud/IBM-DS0321EN-SkillsNetwork/labs/module_2/data/Spacex.csv\")\n",
    "df.to_sql(\"SPACEXTBL\", con, if_exists='replace', index=False,method=\"multi\")\n",
    "%sql DROP TABLE IF EXISTS SPACEXTABLE;\n",
    "%sql create table SPACEXTABLE as select * from SPACEXTBL where Date is not null\n",
    "print(df.head())"
   ]
  },
  {
   "cell_type": "markdown",
   "id": "f837251b-8c0f-4dfc-8783-304e85db1f6d",
   "metadata": {},
   "source": [
    "#### Task 1: Display the names of the unique launch sites in the space mission ####"
   ]
  },
  {
   "cell_type": "code",
   "execution_count": 17,
   "id": "8aa0e7df-bcf2-4a74-8bd5-c26d39e0aab1",
   "metadata": {},
   "outputs": [
    {
     "name": "stdout",
     "output_type": "stream",
     "text": [
      "CCAFS LC-40\n",
      "VAFB SLC-4E\n",
      "KSC LC-39A\n",
      "CCAFS SLC-40\n"
     ]
    }
   ],
   "source": [
    "query1 = \"SELECT DISTINCT Launch_Site FROM SPACEXTABLE;\"\n",
    "cur.execute(query1)\n",
    "\n",
    "launch_sites = cur.fetchall()\n",
    "for site in launch_sites:\n",
    "    print(site[0])  # Print each unique launch site"
   ]
  },
  {
   "cell_type": "markdown",
   "id": "574da489-c24f-4671-9992-3bde00f80575",
   "metadata": {},
   "source": [
    "#### Task 2: Display 5 records where launch sites begin with the string 'CCA' ####"
   ]
  },
  {
   "cell_type": "code",
   "execution_count": 20,
   "id": "a28eb42d-439b-45a8-a727-79254612104d",
   "metadata": {},
   "outputs": [
    {
     "name": "stdout",
     "output_type": "stream",
     "text": [
      "('2010-06-04', '18:45:00', 'F9 v1.0  B0003', 'CCAFS LC-40', 'Dragon Spacecraft Qualification Unit', 0, 'LEO', 'SpaceX', 'Success', 'Failure (parachute)')\n",
      "('2010-12-08', '15:43:00', 'F9 v1.0  B0004', 'CCAFS LC-40', 'Dragon demo flight C1, two CubeSats, barrel of Brouere cheese', 0, 'LEO (ISS)', 'NASA (COTS) NRO', 'Success', 'Failure (parachute)')\n",
      "('2012-05-22', '7:44:00', 'F9 v1.0  B0005', 'CCAFS LC-40', 'Dragon demo flight C2', 525, 'LEO (ISS)', 'NASA (COTS)', 'Success', 'No attempt')\n",
      "('2012-10-08', '0:35:00', 'F9 v1.0  B0006', 'CCAFS LC-40', 'SpaceX CRS-1', 500, 'LEO (ISS)', 'NASA (CRS)', 'Success', 'No attempt')\n",
      "('2013-03-01', '15:10:00', 'F9 v1.0  B0007', 'CCAFS LC-40', 'SpaceX CRS-2', 677, 'LEO (ISS)', 'NASA (CRS)', 'Success', 'No attempt')\n"
     ]
    }
   ],
   "source": [
    "query2 = \"SELECT * FROM SPACEXTABLE WHERE Launch_Site LIKE 'CCA%' LIMIT 5;\"\n",
    "cur.execute(query2)\n",
    "\n",
    "records = cur.fetchall()\n",
    "for record in records:\n",
    "    print(record)"
   ]
  },
  {
   "cell_type": "markdown",
   "id": "61e3209f-6f3b-43fb-8b0f-f63194f2767d",
   "metadata": {},
   "source": [
    "#### Task 3: Display the total payload mass carried by boosters launched by NASA (CRS) ####"
   ]
  },
  {
   "cell_type": "code",
   "execution_count": 23,
   "id": "2b2f7f30-4143-41da-ace5-101e34b89a3e",
   "metadata": {},
   "outputs": [
    {
     "name": "stdout",
     "output_type": "stream",
     "text": [
      "Total Payload Mass for NASA (CRS): 45596 kg\n"
     ]
    }
   ],
   "source": [
    "query3 = \"\"\"\n",
    "SELECT SUM(PAYLOAD_MASS__KG_) AS Total_Payload_Mass\n",
    "FROM SPACEXTABLE\n",
    "WHERE Customer = 'NASA (CRS)';\n",
    "\"\"\"\n",
    "cur.execute(query3)\n",
    "total_payload_mass = cur.fetchone()[0]\n",
    "print(f\"Total Payload Mass for NASA (CRS): {total_payload_mass} kg\")"
   ]
  },
  {
   "cell_type": "markdown",
   "id": "c0edf049-2055-4861-8c0e-079465f06264",
   "metadata": {},
   "source": [
    "#### Task 4: Display average payload mass carried by booster version F9 v1.1 ####"
   ]
  },
  {
   "cell_type": "code",
   "execution_count": 26,
   "id": "099f0a1c-2efe-4fa8-b7dd-d3a9297e60f6",
   "metadata": {},
   "outputs": [
    {
     "name": "stdout",
     "output_type": "stream",
     "text": [
      "Average Payload Mass for F9 v1.1: 2928.4 kg\n"
     ]
    }
   ],
   "source": [
    "query4 = \"\"\"\n",
    "SELECT AVG(PAYLOAD_MASS__KG_) AS Average_Payload_Mass\n",
    "FROM SPACEXTABLE\n",
    "WHERE Booster_Version = 'F9 v1.1';\n",
    "\"\"\"\n",
    "cur.execute(query4)\n",
    "average_payload_mass = cur.fetchone()[0]\n",
    "print(f\"Average Payload Mass for F9 v1.1: {average_payload_mass} kg\")"
   ]
  },
  {
   "cell_type": "markdown",
   "id": "492cd22e-1750-4dbe-bb86-7f6c0fce4034",
   "metadata": {},
   "source": [
    "#### Task 5: List the date when the first succesful landing outcome in ground pad was achieved #### "
   ]
  },
  {
   "cell_type": "code",
   "execution_count": 29,
   "id": "b795adb7-96ed-4b38-8349-4f657d9447ad",
   "metadata": {},
   "outputs": [
    {
     "name": "stdout",
     "output_type": "stream",
     "text": [
      "First successful landing on ground pad: 2015-12-22\n"
     ]
    }
   ],
   "source": [
    "query5 = \"\"\"\n",
    "SELECT MIN(Date) AS First_Successful_Landing\n",
    "FROM SPACEXTABLE\n",
    "WHERE Landing_Outcome LIKE '%ground pad%' AND Mission_Outcome = 'Success';\n",
    "\"\"\"\n",
    "cur.execute(query5)\n",
    "first_successful_landing = cur.fetchone()[0]\n",
    "print(f\"First successful landing on ground pad: {first_successful_landing}\")"
   ]
  },
  {
   "cell_type": "markdown",
   "id": "380122e9-8c77-4dec-81c0-403d09ed235b",
   "metadata": {},
   "source": [
    "#### Task 6: List the names of the boosters which have success in drone ship and have payload mass greater than 4000 but less than 6000 ####"
   ]
  },
  {
   "cell_type": "code",
   "execution_count": 32,
   "id": "f9bd178e-1807-4e6d-b12f-4f23180077b9",
   "metadata": {},
   "outputs": [
    {
     "name": "stdout",
     "output_type": "stream",
     "text": [
      "F9 FT B1020\n",
      "F9 FT B1022\n",
      "F9 FT B1026\n",
      "F9 FT  B1021.2\n",
      "F9 FT  B1031.2\n"
     ]
    }
   ],
   "source": [
    "query6 = \"\"\"\n",
    "SELECT Booster_Version\n",
    "FROM SPACEXTABLE\n",
    "WHERE Landing_Outcome LIKE '%drone ship%'\n",
    "AND Mission_Outcome = 'Success'\n",
    "AND PAYLOAD_MASS__KG_ BETWEEN 4000 AND 6000;\n",
    "\"\"\"\n",
    "cur.execute(query6)\n",
    "boosters = cur.fetchall()\n",
    "for booster in boosters:\n",
    "    print(booster[0])"
   ]
  },
  {
   "cell_type": "markdown",
   "id": "c3bfba47-0ccb-42bd-8f3f-d82dc06199ff",
   "metadata": {},
   "source": [
    "#### Task 7: List the total number of successful and failure mission outcomes ####"
   ]
  },
  {
   "cell_type": "code",
   "execution_count": 36,
   "id": "26a7c0a0-7dfc-4f39-bff5-44fa7a7d0c4c",
   "metadata": {},
   "outputs": [
    {
     "name": "stdout",
     "output_type": "stream",
     "text": [
      "Failure (in flight): 1 missions\n",
      "Success: 98 missions\n",
      "Success : 1 missions\n",
      "Success (payload status unclear): 1 missions\n"
     ]
    }
   ],
   "source": [
    "query7 = \"\"\"\n",
    "SELECT Mission_Outcome, COUNT(*) AS Total_Count\n",
    "FROM SPACEXTABLE\n",
    "GROUP BY Mission_Outcome;\n",
    "\"\"\"\n",
    "cur.execute(query7)\n",
    "mission_outcomes = cur.fetchall()\n",
    "for outcome, count in mission_outcomes:\n",
    "    print(f\"{outcome}: {count} missions\")"
   ]
  },
  {
   "cell_type": "markdown",
   "id": "7938ba3e-d354-40fa-a7bd-9e6c5f483b02",
   "metadata": {},
   "source": [
    "#### Task 8: List all the booster_versions that have carried the maximum payload mass, using a subquery ####"
   ]
  },
  {
   "cell_type": "code",
   "execution_count": 40,
   "id": "141c8c2e-e3f6-417d-841f-a7ce91380303",
   "metadata": {},
   "outputs": [
    {
     "name": "stdout",
     "output_type": "stream",
     "text": [
      "F9 B5 B1048.4\n",
      "F9 B5 B1049.4\n",
      "F9 B5 B1051.3\n",
      "F9 B5 B1056.4\n",
      "F9 B5 B1048.5\n",
      "F9 B5 B1051.4\n",
      "F9 B5 B1049.5\n",
      "F9 B5 B1060.2 \n",
      "F9 B5 B1058.3 \n",
      "F9 B5 B1051.6\n",
      "F9 B5 B1060.3\n",
      "F9 B5 B1049.7 \n"
     ]
    }
   ],
   "source": [
    "query8 = \"\"\"\n",
    "SELECT Booster_Version\n",
    "FROM SPACEXTABLE\n",
    "WHERE PAYLOAD_MASS__KG_ = (SELECT MAX(PAYLOAD_MASS__KG_) FROM SPACEXTABLE);\n",
    "\"\"\"\n",
    "cur.execute(query8)\n",
    "boosters = cur.fetchall()\n",
    "for booster in boosters:\n",
    "    print(booster[0]) "
   ]
  },
  {
   "cell_type": "markdown",
   "id": "b0ac2912-6733-43d3-b582-2628772cd20d",
   "metadata": {},
   "source": [
    "#### Task 9: List the records which will display the month names, failure landing_outcomes in drone ship, booster versions, launch_site for the months in year 2015 ####"
   ]
  },
  {
   "cell_type": "code",
   "execution_count": 43,
   "id": "29cfe7ea-81e3-40e6-b89d-4f8b9e7496f2",
   "metadata": {},
   "outputs": [
    {
     "name": "stdout",
     "output_type": "stream",
     "text": [
      "('January', 'F9 v1.1 B1012', 'CCAFS LC-40', 'Failure (drone ship)')\n",
      "('April', 'F9 v1.1 B1015', 'CCAFS LC-40', 'Failure (drone ship)')\n"
     ]
    }
   ],
   "source": [
    "query9 = \"\"\"\n",
    "SELECT \n",
    "    CASE substr(Date, 6, 2)\n",
    "        WHEN '01' THEN 'January'\n",
    "        WHEN '02' THEN 'February'\n",
    "        WHEN '03' THEN 'March'\n",
    "        WHEN '04' THEN 'April'\n",
    "        WHEN '05' THEN 'May'\n",
    "        WHEN '06' THEN 'June'\n",
    "        WHEN '07' THEN 'July'\n",
    "        WHEN '08' THEN 'August'\n",
    "        WHEN '09' THEN 'September'\n",
    "        WHEN '10' THEN 'October'\n",
    "        WHEN '11' THEN 'November'\n",
    "        WHEN '12' THEN 'December'\n",
    "    END AS Month_Name,\n",
    "    Booster_Version,\n",
    "    Launch_Site,\n",
    "    Landing_Outcome\n",
    "FROM SPACEXTABLE\n",
    "WHERE substr(Date, 0, 5) = '2015'\n",
    "AND Landing_Outcome LIKE '%drone ship%'\n",
    "AND Landing_Outcome LIKE '%Failure%';\n",
    "\"\"\"\n",
    "cur.execute(query9)\n",
    "records9 = cur.fetchall()\n",
    "for record in records9:\n",
    "    print(record)"
   ]
  },
  {
   "cell_type": "markdown",
   "id": "ecd96ed5-c8f6-4601-b083-45aeb6d81cc7",
   "metadata": {},
   "source": [
    "#### Task 10: Rank the count of landing outcomes (such as Failure (drone ship) or Success (ground pad)) between the date 2010-06-04 and 2017-03-20, in descending order ####"
   ]
  },
  {
   "cell_type": "code",
   "execution_count": 46,
   "id": "77f8b1e2-5306-4d24-aa31-81a54625342f",
   "metadata": {},
   "outputs": [
    {
     "name": "stdout",
     "output_type": "stream",
     "text": [
      "No attempt: 10 landings\n",
      "Success (drone ship): 5 landings\n",
      "Failure (drone ship): 5 landings\n",
      "Success (ground pad): 3 landings\n",
      "Controlled (ocean): 3 landings\n",
      "Uncontrolled (ocean): 2 landings\n",
      "Failure (parachute): 2 landings\n",
      "Precluded (drone ship): 1 landings\n"
     ]
    }
   ],
   "source": [
    "query10 = \"\"\"\n",
    "SELECT Landing_Outcome, COUNT(*) AS Outcome_Count\n",
    "FROM SPACEXTABLE\n",
    "WHERE Date BETWEEN '2010-06-04' AND '2017-03-20'\n",
    "GROUP BY Landing_Outcome\n",
    "ORDER BY Outcome_Count DESC;\n",
    "\"\"\"\n",
    "cur.execute(query10)\n",
    "landing_outcomes = cur.fetchall()\n",
    "for outcome, count in landing_outcomes:\n",
    "    print(f\"{outcome}: {count} landings\")"
   ]
  }
 ],
 "metadata": {
  "kernelspec": {
   "display_name": "Python [conda env:base] *",
   "language": "python",
   "name": "conda-base-py"
  },
  "language_info": {
   "codemirror_mode": {
    "name": "ipython",
    "version": 3
   },
   "file_extension": ".py",
   "mimetype": "text/x-python",
   "name": "python",
   "nbconvert_exporter": "python",
   "pygments_lexer": "ipython3",
   "version": "3.12.7"
  }
 },
 "nbformat": 4,
 "nbformat_minor": 5
}
