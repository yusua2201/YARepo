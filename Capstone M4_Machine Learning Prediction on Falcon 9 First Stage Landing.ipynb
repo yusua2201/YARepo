{
 "cells": [
  {
   "cell_type": "markdown",
   "id": "b6d4461c-f972-4f17-bf2a-2bcf34bbe81a",
   "metadata": {},
   "source": [
    "### Machine Learning on Falcon 9 First Stage Landing Prediction ###"
   ]
  },
  {
   "cell_type": "code",
   "execution_count": 9,
   "id": "332ace95-7c9e-4c7d-9993-de54841a6dc8",
   "metadata": {
    "scrolled": true
   },
   "outputs": [
    {
     "name": "stdout",
     "output_type": "stream",
     "text": [
      "Requirement already satisfied: pandas in c:\\users\\65978\\anaconda3\\lib\\site-packages (2.2.2)\n",
      "Requirement already satisfied: numpy>=1.26.0 in c:\\users\\65978\\anaconda3\\lib\\site-packages (from pandas) (1.26.4)\n",
      "Requirement already satisfied: python-dateutil>=2.8.2 in c:\\users\\65978\\anaconda3\\lib\\site-packages (from pandas) (2.9.0.post0)\n",
      "Requirement already satisfied: pytz>=2020.1 in c:\\users\\65978\\anaconda3\\lib\\site-packages (from pandas) (2024.1)\n",
      "Requirement already satisfied: tzdata>=2022.7 in c:\\users\\65978\\anaconda3\\lib\\site-packages (from pandas) (2023.3)\n",
      "Requirement already satisfied: six>=1.5 in c:\\users\\65978\\anaconda3\\lib\\site-packages (from python-dateutil>=2.8.2->pandas) (1.16.0)\n",
      "Requirement already satisfied: scikit-learn in c:\\users\\65978\\anaconda3\\lib\\site-packages (1.6.1)\n",
      "Requirement already satisfied: numpy>=1.19.5 in c:\\users\\65978\\anaconda3\\lib\\site-packages (from scikit-learn) (1.26.4)\n",
      "Requirement already satisfied: scipy>=1.6.0 in c:\\users\\65978\\anaconda3\\lib\\site-packages (from scikit-learn) (1.13.1)\n",
      "Requirement already satisfied: joblib>=1.2.0 in c:\\users\\65978\\anaconda3\\lib\\site-packages (from scikit-learn) (1.4.2)\n",
      "Requirement already satisfied: threadpoolctl>=3.1.0 in c:\\users\\65978\\anaconda3\\lib\\site-packages (from scikit-learn) (3.5.0)\n",
      "Requirement already satisfied: matplotlib in c:\\users\\65978\\anaconda3\\lib\\site-packages (3.9.2)\n",
      "Requirement already satisfied: contourpy>=1.0.1 in c:\\users\\65978\\anaconda3\\lib\\site-packages (from matplotlib) (1.2.0)\n",
      "Requirement already satisfied: cycler>=0.10 in c:\\users\\65978\\anaconda3\\lib\\site-packages (from matplotlib) (0.11.0)\n",
      "Requirement already satisfied: fonttools>=4.22.0 in c:\\users\\65978\\anaconda3\\lib\\site-packages (from matplotlib) (4.51.0)\n",
      "Requirement already satisfied: kiwisolver>=1.3.1 in c:\\users\\65978\\anaconda3\\lib\\site-packages (from matplotlib) (1.4.4)\n",
      "Requirement already satisfied: numpy>=1.23 in c:\\users\\65978\\anaconda3\\lib\\site-packages (from matplotlib) (1.26.4)\n",
      "Requirement already satisfied: packaging>=20.0 in c:\\users\\65978\\anaconda3\\lib\\site-packages (from matplotlib) (24.1)\n",
      "Requirement already satisfied: pillow>=8 in c:\\users\\65978\\anaconda3\\lib\\site-packages (from matplotlib) (10.4.0)\n",
      "Requirement already satisfied: pyparsing>=2.3.1 in c:\\users\\65978\\anaconda3\\lib\\site-packages (from matplotlib) (3.1.2)\n",
      "Requirement already satisfied: python-dateutil>=2.7 in c:\\users\\65978\\anaconda3\\lib\\site-packages (from matplotlib) (2.9.0.post0)\n",
      "Requirement already satisfied: six>=1.5 in c:\\users\\65978\\anaconda3\\lib\\site-packages (from python-dateutil>=2.7->matplotlib) (1.16.0)\n",
      "Requirement already satisfied: numpy in c:\\users\\65978\\anaconda3\\lib\\site-packages (1.26.4)\n",
      "Requirement already satisfied: seaborn in c:\\users\\65978\\anaconda3\\lib\\site-packages (0.13.2)\n",
      "Requirement already satisfied: numpy!=1.24.0,>=1.20 in c:\\users\\65978\\anaconda3\\lib\\site-packages (from seaborn) (1.26.4)\n",
      "Requirement already satisfied: pandas>=1.2 in c:\\users\\65978\\anaconda3\\lib\\site-packages (from seaborn) (2.2.2)\n",
      "Requirement already satisfied: matplotlib!=3.6.1,>=3.4 in c:\\users\\65978\\anaconda3\\lib\\site-packages (from seaborn) (3.9.2)\n",
      "Requirement already satisfied: contourpy>=1.0.1 in c:\\users\\65978\\anaconda3\\lib\\site-packages (from matplotlib!=3.6.1,>=3.4->seaborn) (1.2.0)\n",
      "Requirement already satisfied: cycler>=0.10 in c:\\users\\65978\\anaconda3\\lib\\site-packages (from matplotlib!=3.6.1,>=3.4->seaborn) (0.11.0)\n",
      "Requirement already satisfied: fonttools>=4.22.0 in c:\\users\\65978\\anaconda3\\lib\\site-packages (from matplotlib!=3.6.1,>=3.4->seaborn) (4.51.0)\n",
      "Requirement already satisfied: kiwisolver>=1.3.1 in c:\\users\\65978\\anaconda3\\lib\\site-packages (from matplotlib!=3.6.1,>=3.4->seaborn) (1.4.4)\n",
      "Requirement already satisfied: packaging>=20.0 in c:\\users\\65978\\anaconda3\\lib\\site-packages (from matplotlib!=3.6.1,>=3.4->seaborn) (24.1)\n",
      "Requirement already satisfied: pillow>=8 in c:\\users\\65978\\anaconda3\\lib\\site-packages (from matplotlib!=3.6.1,>=3.4->seaborn) (10.4.0)\n",
      "Requirement already satisfied: pyparsing>=2.3.1 in c:\\users\\65978\\anaconda3\\lib\\site-packages (from matplotlib!=3.6.1,>=3.4->seaborn) (3.1.2)\n",
      "Requirement already satisfied: python-dateutil>=2.7 in c:\\users\\65978\\anaconda3\\lib\\site-packages (from matplotlib!=3.6.1,>=3.4->seaborn) (2.9.0.post0)\n",
      "Requirement already satisfied: pytz>=2020.1 in c:\\users\\65978\\anaconda3\\lib\\site-packages (from pandas>=1.2->seaborn) (2024.1)\n",
      "Requirement already satisfied: tzdata>=2022.7 in c:\\users\\65978\\anaconda3\\lib\\site-packages (from pandas>=1.2->seaborn) (2023.3)\n",
      "Requirement already satisfied: six>=1.5 in c:\\users\\65978\\anaconda3\\lib\\site-packages (from python-dateutil>=2.7->matplotlib!=3.6.1,>=3.4->seaborn) (1.16.0)\n",
      "Requirement already satisfied: plotly in c:\\users\\65978\\anaconda3\\lib\\site-packages (6.0.0)\n",
      "Requirement already satisfied: narwhals>=1.15.1 in c:\\users\\65978\\anaconda3\\lib\\site-packages (from plotly) (1.30.0)\n",
      "Requirement already satisfied: packaging in c:\\users\\65978\\anaconda3\\lib\\site-packages (from plotly) (24.1)\n"
     ]
    }
   ],
   "source": [
    "!pip install pandas\n",
    "!pip install -U scikit-learn\n",
    "!pip install matplotlib\n",
    "!pip install numpy\n",
    "!pip install seaborn\n",
    "!pip install plotly\n",
    "\n",
    "import pandas as pd\n",
    "import matplotlib.pyplot as plt\n",
    "import numpy as np\n",
    "import seaborn as sns\n",
    "from sklearn import preprocessing\n",
    "from sklearn import model_selection\n",
    "from sklearn.model_selection import train_test_split\n",
    "from sklearn.model_selection import GridSearchCV\n",
    "from sklearn.pipeline import Pipeline\n",
    "from sklearn.preprocessing import StandardScaler,PolynomialFeatures\n",
    "from sklearn.linear_model import LinearRegression\n",
    "from sklearn.linear_model import LogisticRegression\n",
    "from sklearn import svm\n",
    "from sklearn.svm import SVC\n",
    "from sklearn import tree\n",
    "from sklearn.tree import DecisionTreeClassifier\n",
    "from sklearn import neighbors\n",
    "from sklearn.neighbors import KNeighborsClassifier\n",
    "\n",
    "%matplotlib inline\n",
    "\n",
    "def warn(*args, **kwargs):\n",
    "    pass\n",
    "import warnings\n",
    "warnings.warn = warn"
   ]
  },
  {
   "cell_type": "markdown",
   "id": "29a94e89-5515-4f39-a291-07394f0bbde4",
   "metadata": {},
   "source": [
    "#### Defining Function to Plot the Confusion Matrix ####"
   ]
  },
  {
   "cell_type": "code",
   "execution_count": 17,
   "id": "3fd49856-b9f1-48e4-886f-6399e84b9ced",
   "metadata": {},
   "outputs": [],
   "source": [
    "def plot_confusion_matrix(y,y_predict):\n",
    "    \"this function plots the confusion matrix\"\n",
    "    from sklearn.metrics import confusion_matrix\n",
    "\n",
    "    cm = confusion_matrix(y, y_predict)\n",
    "    ax= plt.subplot()\n",
    "    sns.heatmap(cm, annot=True, ax = ax); #annot=True to annotate cells\n",
    "    ax.set_xlabel('Predicted labels')\n",
    "    ax.set_ylabel('True labels')\n",
    "    ax.set_title('Confusion Matrix'); \n",
    "    ax.xaxis.set_ticklabels(['did not land', 'land']); ax.yaxis.set_ticklabels(['did not land', 'landed']) \n",
    "    plt.show() "
   ]
  },
  {
   "cell_type": "markdown",
   "id": "3b83c687-27bc-4ccc-b3db-98b1882c3cea",
   "metadata": {},
   "source": [
    "#### Load the DataFrame data ####"
   ]
  },
  {
   "cell_type": "code",
   "execution_count": 20,
   "id": "3f9ab701-f3d0-4250-a5b4-eddc9e19be8a",
   "metadata": {},
   "outputs": [
    {
     "name": "stdout",
     "output_type": "stream",
     "text": [
      "   FlightNumber        Date BoosterVersion  PayloadMass Orbit    LaunchSite  \\\n",
      "0             1  2010-06-04       Falcon 9  6104.959412   LEO  CCAFS SLC 40   \n",
      "1             2  2012-05-22       Falcon 9   525.000000   LEO  CCAFS SLC 40   \n",
      "2             3  2013-03-01       Falcon 9   677.000000   ISS  CCAFS SLC 40   \n",
      "3             4  2013-09-29       Falcon 9   500.000000    PO   VAFB SLC 4E   \n",
      "4             5  2013-12-03       Falcon 9  3170.000000   GTO  CCAFS SLC 40   \n",
      "\n",
      "       Outcome  Flights  GridFins  Reused   Legs LandingPad  Block  \\\n",
      "0    None None        1     False   False  False        NaN    1.0   \n",
      "1    None None        1     False   False  False        NaN    1.0   \n",
      "2    None None        1     False   False  False        NaN    1.0   \n",
      "3  False Ocean        1     False   False  False        NaN    1.0   \n",
      "4    None None        1     False   False  False        NaN    1.0   \n",
      "\n",
      "   ReusedCount Serial   Longitude   Latitude  Class  \n",
      "0            0  B0003  -80.577366  28.561857      0  \n",
      "1            0  B0005  -80.577366  28.561857      0  \n",
      "2            0  B0007  -80.577366  28.561857      0  \n",
      "3            0  B1003 -120.610829  34.632093      0  \n",
      "4            0  B1004  -80.577366  28.561857      0  \n"
     ]
    }
   ],
   "source": [
    "import io\n",
    "import requests\n",
    "URL1 = \"https://cf-courses-data.s3.us.cloud-object-storage.appdomain.cloud/IBM-DS0321EN-SkillsNetwork/datasets/dataset_part_2.csv\"\n",
    "resp1 = requests.get(URL1)\n",
    "text1 = io.StringIO(resp1.text)\n",
    "data=pd.read_csv(text1)\n",
    "print(data.head())"
   ]
  },
  {
   "cell_type": "markdown",
   "id": "68cdcc4e-d261-4e86-88eb-7912ac938b9a",
   "metadata": {},
   "source": [
    "#### Load the DataFrame X ####"
   ]
  },
  {
   "cell_type": "code",
   "execution_count": 28,
   "id": "1eab1876-b2a6-4012-80c4-00a312212e1b",
   "metadata": {},
   "outputs": [
    {
     "name": "stdout",
     "output_type": "stream",
     "text": [
      "    FlightNumber   PayloadMass  Flights  Block  ReusedCount  Orbit_ES-L1  \\\n",
      "0            1.0   6104.959412      1.0    1.0          0.0          0.0   \n",
      "1            2.0    525.000000      1.0    1.0          0.0          0.0   \n",
      "2            3.0    677.000000      1.0    1.0          0.0          0.0   \n",
      "3            4.0    500.000000      1.0    1.0          0.0          0.0   \n",
      "4            5.0   3170.000000      1.0    1.0          0.0          0.0   \n",
      "..           ...           ...      ...    ...          ...          ...   \n",
      "85          86.0  15400.000000      2.0    5.0          2.0          0.0   \n",
      "86          87.0  15400.000000      3.0    5.0          2.0          0.0   \n",
      "87          88.0  15400.000000      6.0    5.0          5.0          0.0   \n",
      "88          89.0  15400.000000      3.0    5.0          2.0          0.0   \n",
      "89          90.0   3681.000000      1.0    5.0          0.0          0.0   \n",
      "\n",
      "    Orbit_GEO  Orbit_GTO  Orbit_HEO  Orbit_ISS  ...  Serial_B1058  \\\n",
      "0         0.0        0.0        0.0        0.0  ...           0.0   \n",
      "1         0.0        0.0        0.0        0.0  ...           0.0   \n",
      "2         0.0        0.0        0.0        1.0  ...           0.0   \n",
      "3         0.0        0.0        0.0        0.0  ...           0.0   \n",
      "4         0.0        1.0        0.0        0.0  ...           0.0   \n",
      "..        ...        ...        ...        ...  ...           ...   \n",
      "85        0.0        0.0        0.0        0.0  ...           0.0   \n",
      "86        0.0        0.0        0.0        0.0  ...           1.0   \n",
      "87        0.0        0.0        0.0        0.0  ...           0.0   \n",
      "88        0.0        0.0        0.0        0.0  ...           0.0   \n",
      "89        0.0        0.0        0.0        0.0  ...           0.0   \n",
      "\n",
      "    Serial_B1059  Serial_B1060  Serial_B1062  GridFins_False  GridFins_True  \\\n",
      "0            0.0           0.0           0.0             1.0            0.0   \n",
      "1            0.0           0.0           0.0             1.0            0.0   \n",
      "2            0.0           0.0           0.0             1.0            0.0   \n",
      "3            0.0           0.0           0.0             1.0            0.0   \n",
      "4            0.0           0.0           0.0             1.0            0.0   \n",
      "..           ...           ...           ...             ...            ...   \n",
      "85           0.0           1.0           0.0             0.0            1.0   \n",
      "86           0.0           0.0           0.0             0.0            1.0   \n",
      "87           0.0           0.0           0.0             0.0            1.0   \n",
      "88           0.0           1.0           0.0             0.0            1.0   \n",
      "89           0.0           0.0           1.0             0.0            1.0   \n",
      "\n",
      "    Reused_False  Reused_True  Legs_False  Legs_True  \n",
      "0            1.0          0.0         1.0        0.0  \n",
      "1            1.0          0.0         1.0        0.0  \n",
      "2            1.0          0.0         1.0        0.0  \n",
      "3            1.0          0.0         1.0        0.0  \n",
      "4            1.0          0.0         1.0        0.0  \n",
      "..           ...          ...         ...        ...  \n",
      "85           0.0          1.0         0.0        1.0  \n",
      "86           0.0          1.0         0.0        1.0  \n",
      "87           0.0          1.0         0.0        1.0  \n",
      "88           0.0          1.0         0.0        1.0  \n",
      "89           1.0          0.0         0.0        1.0  \n",
      "\n",
      "[90 rows x 83 columns]\n"
     ]
    }
   ],
   "source": [
    "URL2 = 'https://cf-courses-data.s3.us.cloud-object-storage.appdomain.cloud/IBM-DS0321EN-SkillsNetwork/datasets/dataset_part_3.csv'\n",
    "resp2 = requests.get(URL2)\n",
    "text2 = io.StringIO(resp2.text)\n",
    "X = pd.read_csv(text2)\n",
    "print(X.head(100))"
   ]
  },
  {
   "cell_type": "markdown",
   "id": "f837251b-8c0f-4dfc-8783-304e85db1f6d",
   "metadata": {},
   "source": [
    "#### Task 1: Create a NumPy array form the column Class in data ####"
   ]
  },
  {
   "cell_type": "code",
   "execution_count": 33,
   "id": "8aa0e7df-bcf2-4a74-8bd5-c26d39e0aab1",
   "metadata": {},
   "outputs": [
    {
     "name": "stdout",
     "output_type": "stream",
     "text": [
      "[0 0 0 0 0 0 1 1 0 0 0 0 1 0 0 0 1 0 0 1 1 1 1 1 0 1 1 0 1 1 0 1 1 1 0 1 1\n",
      " 1 1 1 1 1 1 1 1 0 0 0 1 1 0 0 1 1 1 1 1 1 1 0 0 1 1 1 1 1 1 0 1 1 1 1 0 1\n",
      " 0 1 0 1 1 1 1 1 1 1 1 1 1 1 1 1]\n"
     ]
    }
   ],
   "source": [
    "Y = data['Class'].to_numpy()\n",
    "print(Y)"
   ]
  },
  {
   "cell_type": "markdown",
   "id": "574da489-c24f-4671-9992-3bde00f80575",
   "metadata": {},
   "source": [
    "#### Task 2: Standardize the data in X then reassign it to the variable X using the Transform provided ####"
   ]
  },
  {
   "cell_type": "code",
   "execution_count": 36,
   "id": "a28eb42d-439b-45a8-a727-79254612104d",
   "metadata": {},
   "outputs": [],
   "source": [
    "transform = preprocessing.StandardScaler()\n",
    "X = transform.fit_transform(X)"
   ]
  },
  {
   "cell_type": "markdown",
   "id": "21cf94ab-dcf5-4a77-8e44-ddf2a331c878",
   "metadata": {},
   "source": [
    "#### Task 3: Use the function train_test_split to split the data X and Y into Training and Test data #### "
   ]
  },
  {
   "cell_type": "code",
   "execution_count": 39,
   "id": "ff07970c-c500-4815-9ab6-4ec446971503",
   "metadata": {},
   "outputs": [],
   "source": [
    "X_train, X_test, Y_train, Y_test = train_test_split(X, Y, test_size=0.2, random_state=2)"
   ]
  },
  {
   "cell_type": "code",
   "execution_count": 41,
   "id": "07b34ff6-cfcd-421a-a404-2b329d157843",
   "metadata": {},
   "outputs": [
    {
     "data": {
      "text/plain": [
       "(18,)"
      ]
     },
     "execution_count": 41,
     "metadata": {},
     "output_type": "execute_result"
    }
   ],
   "source": [
    "Y_test.shape # check on the number of test samples"
   ]
  },
  {
   "cell_type": "markdown",
   "id": "380122e9-8c77-4dec-81c0-403d09ed235b",
   "metadata": {},
   "source": [
    "#### Task 4: Create a Logistic Regression Object, then create a GridSearchCV Object 1ogreg_cv with cv = 10 ####"
   ]
  },
  {
   "cell_type": "code",
   "execution_count": 44,
   "id": "f9bd178e-1807-4e6d-b12f-4f23180077b9",
   "metadata": {},
   "outputs": [
    {
     "name": "stdout",
     "output_type": "stream",
     "text": [
      "Tuned hyperparameters (best parameters): {'C': 0.01, 'penalty': 'l2', 'solver': 'lbfgs'}\n",
      "Accuracy: 0.8464285714285713\n"
     ]
    }
   ],
   "source": [
    "lr = LogisticRegression()\n",
    "\n",
    "# Define hyperparameter grid\n",
    "parameters = {'C': [0.01, 0.1, 1], 'penalty': ['l2'], 'solver': ['lbfgs']}\n",
    "\n",
    "# Create GridSearchCV object with 10-fold cross-validation\n",
    "logreg_cv = GridSearchCV(lr, parameters, cv=10)\n",
    "\n",
    "# Fit to training data\n",
    "logreg_cv.fit(X_train, Y_train)\n",
    "\n",
    "# Display best parameters and validation accuracy\n",
    "print(\"Tuned hyperparameters (best parameters):\", logreg_cv.best_params_)\n",
    "print(\"Accuracy:\", logreg_cv.best_score_)"
   ]
  },
  {
   "cell_type": "markdown",
   "id": "c644a39e-49a0-4313-98f2-139a66f7f8c8",
   "metadata": {},
   "source": [
    "#### Task 5: Calculate the Accuracy on the Test data using the Method Score ####"
   ]
  },
  {
   "cell_type": "code",
   "execution_count": 47,
   "id": "a93bf64a-43ca-4fc7-9228-915782091a97",
   "metadata": {},
   "outputs": [
    {
     "name": "stdout",
     "output_type": "stream",
     "text": [
      "Test Accuracy: 0.8333333333333334\n"
     ]
    }
   ],
   "source": [
    "accuracy = logreg_cv.best_estimator_.score(X_test, Y_test)\n",
    "print(\"Test Accuracy:\", accuracy)"
   ]
  },
  {
   "cell_type": "markdown",
   "id": "d1dfb848-aa8e-44bc-839e-77af56e9386c",
   "metadata": {},
   "source": [
    "#### Confusion Matrix ####"
   ]
  },
  {
   "cell_type": "code",
   "execution_count": 50,
   "id": "acfc80bd-be99-42c4-a4ad-8bc75a7010c7",
   "metadata": {},
   "outputs": [
    {
     "data": {
      "image/png": "[encoded data removed]",
      "text/plain": [
       "<Figure size 640x480 with 2 Axes>"
      ]
     },
     "metadata": {},
     "output_type": "display_data"
    }
   ],
   "source": [
    "yhat=logreg_cv.predict(X_test)\n",
    "plot_confusion_matrix(Y_test,yhat)"
   ]
  },
  {
   "cell_type": "markdown",
   "id": "2b674b0f-2108-4d68-a933-9328f881a5f0",
   "metadata": {},
   "source": [
    "#### Task 6: Create a Support Vector Machine, then Create a GridSearchCV Object svm_cv with cv = 10 ####"
   ]
  },
  {
   "cell_type": "code",
   "execution_count": 53,
   "id": "b575b144-3aff-4de0-95f6-63025e00f7ea",
   "metadata": {},
   "outputs": [
    {
     "name": "stdout",
     "output_type": "stream",
     "text": [
      "Tuned hyperparameters (best parameters): {'C': 1.0, 'gamma': 0.03162277660168379, 'kernel': 'sigmoid'}\n",
      "Accuracy: 0.8482142857142856\n"
     ]
    }
   ],
   "source": [
    "svm = SVC()\n",
    "\n",
    "# Define hyperparameter grid\n",
    "parameters = {\n",
    "    'kernel': ('linear', 'rbf', 'poly', 'sigmoid'),  # Removed duplicate 'rbf'\n",
    "    'C': np.logspace(-3, 3, 5),\n",
    "    'gamma': np.logspace(-3, 3, 5)\n",
    "}\n",
    "\n",
    "# Create GridSearchCV object with 10-fold cross-validation\n",
    "svm_cv = GridSearchCV(svm, parameters, cv=10)\n",
    "\n",
    "# Fit to training data\n",
    "svm_cv.fit(X_train, Y_train)\n",
    "\n",
    "# Display best parameters and validation accuracy\n",
    "print(\"Tuned hyperparameters (best parameters):\", svm_cv.best_params_)\n",
    "print(\"Accuracy:\", svm_cv.best_score_)"
   ]
  },
  {
   "cell_type": "markdown",
   "id": "d745b716-377f-435d-99ad-af4c8383501e",
   "metadata": {},
   "source": [
    "#### Task 7: Calculate the Accuracy on the Test Data using the Method Score and Plot the Confusion Matrix ####"
   ]
  },
  {
   "cell_type": "code",
   "execution_count": 56,
   "id": "7dd3ba72-680b-4c18-956f-15446aaa744c",
   "metadata": {},
   "outputs": [
    {
     "name": "stdout",
     "output_type": "stream",
     "text": [
      "Test Accuracy: 0.8333333333333334\n"
     ]
    },
    {
     "data": {
      "image/png": "[encoded data removed]",
      "text/plain": [
       "<Figure size 640x480 with 2 Axes>"
      ]
     },
     "metadata": {},
     "output_type": "display_data"
    }
   ],
   "source": [
    "accuracy = svm_cv.best_estimator_.score(X_test, Y_test)\n",
    "print(\"Test Accuracy:\", accuracy)\n",
    "\n",
    "# Confusion Matrix\n",
    "yhat=svm_cv.predict(X_test)\n",
    "plot_confusion_matrix(Y_test,yhat)"
   ]
  },
  {
   "cell_type": "markdown",
   "id": "af5b00eb-324c-42d7-9d8a-31c04ea2ec1d",
   "metadata": {},
   "source": [
    "#### Task 8: Create a Decision Tree Classifier Object, then Createa GridSearchCV Object tree_cv with cv = 10 ####"
   ]
  },
  {
   "cell_type": "code",
   "execution_count": 59,
   "id": "9ad4997f-515c-4211-aed6-3984b8eb9e63",
   "metadata": {},
   "outputs": [
    {
     "name": "stdout",
     "output_type": "stream",
     "text": [
      "Tuned hyperparameters (best parameters): {'criterion': 'entropy', 'max_depth': 12, 'max_features': 'sqrt', 'min_samples_leaf': 4, 'min_samples_split': 2, 'splitter': 'random'}\n",
      "Accuracy: 0.8857142857142858\n"
     ]
    }
   ],
   "source": [
    "tree = DecisionTreeClassifier()\n",
    "\n",
    "# Define hyperparameter grid\n",
    "parameters = {\n",
    "    'criterion': ['gini', 'entropy'],\n",
    "    'splitter': ['best', 'random'],\n",
    "    'max_depth': [2 * n for n in range(1, 10)],\n",
    "    'max_features': ['sqrt'],  # 'auto' is not a valid option for max_features in DecisionTreeClassifier\n",
    "    'min_samples_leaf': [1, 2, 4],\n",
    "    'min_samples_split': [2, 5, 10]\n",
    "}\n",
    "# Create GridSearchCV object with 10-fold cross-validation\n",
    "tree_cv = GridSearchCV(tree, parameters, cv=10)\n",
    "\n",
    "# Fit to training data\n",
    "tree_cv.fit(X_train, Y_train)\n",
    "\n",
    "# Display best parameters and validation accuracy\n",
    "print(\"Tuned hyperparameters (best parameters):\", tree_cv.best_params_)\n",
    "print(\"Accuracy:\", tree_cv.best_score_)"
   ]
  },
  {
   "cell_type": "markdown",
   "id": "778e6b75-b2a3-4b49-be46-04b69eeb5845",
   "metadata": {},
   "source": [
    "#### Task 9: Calculate the Accuracy of tree_cv on the Test data using Method Score and Plot the Confusion Matrix ####"
   ]
  },
  {
   "cell_type": "code",
   "execution_count": 65,
   "id": "0de47023-766f-4b6d-a334-ecabf58c2f9d",
   "metadata": {},
   "outputs": [
    {
     "name": "stdout",
     "output_type": "stream",
     "text": [
      "Test Accuracy: 0.7777777777777778\n"
     ]
    },
    {
     "data": {
      "image/png": "[encoded data removed]",
      "text/plain": [
       "<Figure size 640x480 with 2 Axes>"
      ]
     },
     "metadata": {},
     "output_type": "display_data"
    }
   ],
   "source": [
    "accuracy = tree_cv.best_estimator_.score(X_test, Y_test)\n",
    "print(\"Test Accuracy:\", accuracy)\n",
    "\n",
    "yhat = tree_cv.predict(X_test)\n",
    "plot_confusion_matrix(Y_test,yhat)"
   ]
  },
  {
   "cell_type": "markdown",
   "id": "e1918499-69e3-43a4-89e8-d28bd0d6ec65",
   "metadata": {},
   "source": [
    "#### Task 10: Create a k Nearest Neighbors Object, then Create a GridSearchCV Object knn_cv with cv = 10 ####"
   ]
  },
  {
   "cell_type": "code",
   "execution_count": 68,
   "id": "0db740c1-54ab-456f-acb6-a8d9a9f43bac",
   "metadata": {},
   "outputs": [
    {
     "name": "stdout",
     "output_type": "stream",
     "text": [
      "Tuned hyperparameters (best parameters): {'algorithm': 'auto', 'n_neighbors': 10, 'p': 1}\n",
      "Accuracy: 0.8482142857142858\n"
     ]
    }
   ],
   "source": [
    "KNN = KNeighborsClassifier()\n",
    "\n",
    "# Define hyperparameter grid\n",
    "parameters = {\n",
    "    'n_neighbors': list(range(1, 11)),  # Same as [1, 2, ..., 10]\n",
    "    'algorithm': ['auto', 'ball_tree', 'kd_tree', 'brute'],\n",
    "    'p': [1, 2]\n",
    "}\n",
    "# Create GridSearchCV object with 10-fold cross-validation\n",
    "knn_cv = GridSearchCV(KNN, parameters, cv=10)\n",
    "\n",
    "# Fit to training data\n",
    "knn_cv.fit(X_train, Y_train)\n",
    "\n",
    "# Display best parameters and validation accuracy\n",
    "print(\"Tuned hyperparameters (best parameters):\", knn_cv.best_params_)\n",
    "print(\"Accuracy:\", knn_cv.best_score_)"
   ]
  },
  {
   "cell_type": "markdown",
   "id": "5f5495e7-82c8-4ef0-9b7e-e1b42df4a663",
   "metadata": {},
   "source": [
    "#### Task 11: Calculate the Accuracy of knn_cv on the Test data using Method Score and Plot the Confusion Matrix ####"
   ]
  },
  {
   "cell_type": "code",
   "execution_count": 72,
   "id": "ea2247f6-d337-459c-8abd-a9b16f2ac1e0",
   "metadata": {},
   "outputs": [
    {
     "name": "stdout",
     "output_type": "stream",
     "text": [
      "Test Accuracy: 0.8333333333333334\n"
     ]
    },
    {
     "data": {
      "image/png": "[encoded data removed]",
      "text/plain": [
       "<Figure size 640x480 with 2 Axes>"
      ]
     },
     "metadata": {},
     "output_type": "display_data"
    }
   ],
   "source": [
    "accuracy = knn_cv.best_estimator_.score(X_test, Y_test)\n",
    "print(\"Test Accuracy:\", accuracy)\n",
    "\n",
    "yhat = knn_cv.predict(X_test)\n",
    "plot_confusion_matrix(Y_test,yhat)"
   ]
  },
  {
   "cell_type": "markdown",
   "id": "9e7d6fdf-f19f-4e09-be5e-70bc3d860c88",
   "metadata": {},
   "source": [
    "#### Task 12: Find that Method that Performs the Best ####"
   ]
  },
  {
   "cell_type": "code",
   "execution_count": 75,
   "id": "21752def-2c39-4167-9c9b-b139a41007ec",
   "metadata": {},
   "outputs": [
    {
     "name": "stdout",
     "output_type": "stream",
     "text": [
      "Logistic Regression Test Accuracy: 0.8333333333333334\n",
      "SVM Test Accuracy: 0.8333333333333334\n",
      "Decision Tree Test Accuracy: 0.7777777777777778\n",
      "KNN Test Accuracy: 0.8333333333333334\n"
     ]
    }
   ],
   "source": [
    "print(\"Logistic Regression Test Accuracy:\", logreg_cv.best_estimator_.score(X_test, Y_test))\n",
    "print(\"SVM Test Accuracy:\", svm_cv.best_estimator_.score(X_test, Y_test))\n",
    "print(\"Decision Tree Test Accuracy:\", tree_cv.best_estimator_.score(X_test, Y_test))\n",
    "print(\"KNN Test Accuracy:\", knn_cv.best_estimator_.score(X_test, Y_test))"
   ]
  },
  {
   "cell_type": "markdown",
   "id": "43ffb1b9-cf35-4d66-8d7f-81529138788c",
   "metadata": {},
   "source": [
    "#### Other Methods to Determine the Best Method ####"
   ]
  },
  {
   "cell_type": "code",
   "execution_count": 78,
   "id": "8fa6058a-1a78-4229-b4fe-8fc830aef95e",
   "metadata": {},
   "outputs": [
    {
     "name": "stdout",
     "output_type": "stream",
     "text": [
      "              precision    recall  f1-score   support\n",
      "\n",
      "           0       1.00      0.50      0.67         6\n",
      "           1       0.80      1.00      0.89        12\n",
      "\n",
      "    accuracy                           0.83        18\n",
      "   macro avg       0.90      0.75      0.78        18\n",
      "weighted avg       0.87      0.83      0.81        18\n",
      "\n",
      "              precision    recall  f1-score   support\n",
      "\n",
      "           0       1.00      0.50      0.67         6\n",
      "           1       0.80      1.00      0.89        12\n",
      "\n",
      "    accuracy                           0.83        18\n",
      "   macro avg       0.90      0.75      0.78        18\n",
      "weighted avg       0.87      0.83      0.81        18\n",
      "\n",
      "              precision    recall  f1-score   support\n",
      "\n",
      "           0       1.00      0.50      0.67         6\n",
      "           1       0.80      1.00      0.89        12\n",
      "\n",
      "    accuracy                           0.83        18\n",
      "   macro avg       0.90      0.75      0.78        18\n",
      "weighted avg       0.87      0.83      0.81        18\n",
      "\n"
     ]
    }
   ],
   "source": [
    "from sklearn.metrics import classification_report\n",
    "\n",
    "print(classification_report(Y_test, logreg_cv.best_estimator_.predict(X_test)))\n",
    "print(classification_report(Y_test, svm_cv.best_estimator_.predict(X_test)))\n",
    "print(classification_report(Y_test, knn_cv.best_estimator_.predict(X_test)))"
   ]
  },
  {
   "cell_type": "code",
   "execution_count": null,
   "id": "f455d1a6-f8ae-4b42-9c01-a429df57026a",
   "metadata": {},
   "outputs": [],
   "source": []
  }
 ],
 "metadata": {
  "kernelspec": {
   "display_name": "Python [conda env:base] *",
   "language": "python",
   "name": "conda-base-py"
  },
  "language_info": {
   "codemirror_mode": {
    "name": "ipython",
    "version": 3
   },
   "file_extension": ".py",
   "mimetype": "text/x-python",
   "name": "python",
   "nbconvert_exporter": "python",
   "pygments_lexer": "ipython3",
   "version": "3.12.7"
  }
 },
 "nbformat": 4,
 "nbformat_minor": 5
}
